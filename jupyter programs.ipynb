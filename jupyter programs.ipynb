{
 "cells": [
  {
   "cell_type": "markdown",
   "id": "8c496506",
   "metadata": {},
   "source": [
    "This is playfair cipher decryption"
   ]
  },
  {
   "cell_type": "code",
   "execution_count": 1,
   "id": "d0be9c8f",
   "metadata": {},
   "outputs": [
    {
     "ename": "ModuleNotFoundError",
     "evalue": "No module named 'numpy'",
     "output_type": "error",
     "traceback": [
      "\u001b[1;31m---------------------------------------------------------------------------\u001b[0m",
      "\u001b[1;31mModuleNotFoundError\u001b[0m                       Traceback (most recent call last)",
      "\u001b[1;32m~\\AppData\\Local\\Temp/ipykernel_9656/122256011.py\u001b[0m in \u001b[0;36m<module>\u001b[1;34m\u001b[0m\n\u001b[1;32m----> 1\u001b[1;33m \u001b[1;32mimport\u001b[0m \u001b[0mnumpy\u001b[0m \u001b[1;32mas\u001b[0m \u001b[0mnp\u001b[0m\u001b[1;33m\u001b[0m\u001b[1;33m\u001b[0m\u001b[0m\n\u001b[0m\u001b[0;32m      2\u001b[0m \u001b[1;33m\u001b[0m\u001b[0m\n\u001b[0;32m      3\u001b[0m \u001b[1;32mdef\u001b[0m \u001b[0mshift\u001b[0m\u001b[1;33m(\u001b[0m\u001b[0marray\u001b[0m\u001b[1;33m,\u001b[0m \u001b[0mtable_array\u001b[0m\u001b[1;33m)\u001b[0m\u001b[1;33m:\u001b[0m\u001b[1;33m\u001b[0m\u001b[1;33m\u001b[0m\u001b[0m\n\u001b[0;32m      4\u001b[0m     \u001b[0marrshif\u001b[0m \u001b[1;33m=\u001b[0m \u001b[0mnp\u001b[0m\u001b[1;33m.\u001b[0m\u001b[0mzeros\u001b[0m\u001b[1;33m(\u001b[0m\u001b[0mtable_array\u001b[0m\u001b[1;33m.\u001b[0m\u001b[0mshape\u001b[0m\u001b[1;33m[\u001b[0m\u001b[1;36m0\u001b[0m\u001b[1;33m]\u001b[0m\u001b[1;33m,\u001b[0m \u001b[0mdtype\u001b[0m\u001b[1;33m=\u001b[0m\u001b[1;34m'int'\u001b[0m\u001b[1;33m)\u001b[0m\u001b[1;33m\u001b[0m\u001b[1;33m\u001b[0m\u001b[0m\n\u001b[0;32m      5\u001b[0m     \u001b[1;32mfor\u001b[0m \u001b[0midx\u001b[0m\u001b[1;33m,\u001b[0m \u001b[0mval\u001b[0m \u001b[1;32min\u001b[0m \u001b[0menumerate\u001b[0m\u001b[1;33m(\u001b[0m\u001b[0mtable_array\u001b[0m\u001b[1;33m)\u001b[0m\u001b[1;33m:\u001b[0m \u001b[0marrshif\u001b[0m\u001b[1;33m[\u001b[0m\u001b[0midx\u001b[0m\u001b[1;33m]\u001b[0m \u001b[1;33m=\u001b[0m \u001b[0marray\u001b[0m\u001b[1;33m[\u001b[0m\u001b[0mval\u001b[0m \u001b[1;33m-\u001b[0m \u001b[1;36m1\u001b[0m\u001b[1;33m]\u001b[0m       \u001b[1;31m#shifting the values in the array\u001b[0m\u001b[1;33m\u001b[0m\u001b[1;33m\u001b[0m\u001b[0m\n",
      "\u001b[1;31mModuleNotFoundError\u001b[0m: No module named 'numpy'"
     ]
    }
   ],
   "source": [
    "import numpy as np\n",
    "\n",
    "def shift(array, table_array):\n",
    "    arrshif = np.zeros(table_array.shape[0], dtype='int')\n",
    "    for idx, val in enumerate(table_array): arrshif[idx] = array[val - 1]       #shifting the values in the array\n",
    "    return arrshif\n",
    "\n",
    "def array_split(array):\n",
    "    lefts = array[:int(len(array) / 2)]\n",
    "    rights = array[int(len(array) / 2):]          #splitting array into 2 halves\n",
    "    return lefts, rights\n",
    "\n",
    "def shifting_LtoR(array):\n",
    "    flag = array[0]\n",
    "    for idx in range(1, len(array)):           #left bit shifting\n",
    "        array[idx - 1] = array[idx]        \n",
    "    array[len(array) - 1] = flag\n",
    "    return array\n",
    "\n",
    "p_10 = np.array([3, 5, 2, 7, 4, 10, 1, 9, 8, 6])\n",
    "p_8 = np.array([6, 3, 7, 4, 8, 5, 10, 9])                  #creating numpy arrays\n",
    "\n",
    "key = list('1011000100')  #key \n",
    "\n",
    "def spmer(key):\n",
    "    lefts, rights = array_split(key)\n",
    "    return np.concatenate((shifting_LtoR(lefts), shifting_LtoR(rights))) #splitting the arrays and calling the function for bit shifthing\n",
    "\n",
    "def key1(key, table):\n",
    "    k = shift(key, table)\n",
    "    key_merge = spmer(k)                                          #function for key generation k1\n",
    "    return shift(key_merge, table)\n",
    "\n",
    "def key2(key, table): return spmer(key)                          #function for k2\n",
    "\n",
    "key_1 = key1(key, p_10)\n",
    "print(\"\".join([str(elem) for elem in key_1]))  #1000111010                \n",
    "\n",
    "key_2 = key2(key_1, p_8)    \n",
    "print(\"\".join([str(elem) for elem in key_2]))  #0001110101"
   ]
  },
  {
   "cell_type": "code",
   "execution_count": null,
   "id": "9206e1d4",
   "metadata": {},
   "outputs": [],
   "source": []
  }
 ],
 "metadata": {
  "kernelspec": {
   "display_name": "Python 3 (ipykernel)",
   "language": "python",
   "name": "python3"
  },
  "language_info": {
   "codemirror_mode": {
    "name": "ipython",
    "version": 3
   },
   "file_extension": ".py",
   "mimetype": "text/x-python",
   "name": "python",
   "nbconvert_exporter": "python",
   "pygments_lexer": "ipython3",
   "version": "3.9.7"
  }
 },
 "nbformat": 4,
 "nbformat_minor": 5
}
